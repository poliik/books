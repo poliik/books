{
 "cells": [
  {
   "cell_type": "code",
   "execution_count": 1,
   "metadata": {},
   "outputs": [],
   "source": [
    "from selenium import webdriver\n",
    "import html\n",
    "from time import sleep"
   ]
  },
  {
   "cell_type": "code",
   "execution_count": 53,
   "metadata": {},
   "outputs": [],
   "source": [
    "urls = [\"https://www.chitai-gorod.ru/search/result.php?q=%D4%F0%E0%E9%20%CC.&type=author\",\n",
    "        \"https://www.chitai-gorod.ru/search/result.php?q=%D5%E0%ED%F2%E5%F0%20%DD.&type=author\",\n",
    "        \"https://www.chitai-gorod.ru/search/result.php?q=%C5%EC%E5%F6%20%C4.&type=author\"]"
   ]
  },
  {
   "cell_type": "code",
   "execution_count": 26,
   "metadata": {},
   "outputs": [],
   "source": [
    "def get_books_info(driver, url, t_sleep=1):\n",
    "    driver.get(url)\n",
    "    sleep(t_sleep)\n",
    "    \n",
    "    count_res = driver.find_elements_by_class_name(\"count-result__value ng-binding\")\n",
    "    result = []\n",
    "    items = driver.find_elements_by_class_name(\"product-card\")\n",
    "    for item in items:\n",
    "        classes = item.get_attribute('data-product')\n",
    "        result.append(classes)\n",
    "    return result"
   ]
  },
  {
   "cell_type": "code",
   "execution_count": 100,
   "metadata": {},
   "outputs": [],
   "source": [
    "def get_books_info(driver, url, t_sleep=3):\n",
    "    driver.get(url)\n",
    "    sleep(t_sleep)\n",
    "    \n",
    "    count_res = driver.find_element_by_class_name('catalog').find_element_by_class_name('count-result').text\n",
    "    count_res = int(re.sub(\"\\D\", \"\", count_res))\n",
    "    result = []\n",
    "    items = driver.find_elements_by_class_name(\"product-card\")\n",
    "    \n",
    "    while (len(items) != count_res):\n",
    "        driver.execute_script(\"window.scrollTo(0, document.body.scrollHeight);\") \n",
    "        sleep(5)\n",
    "        items = driver.find_elements_by_class_name(\"product-card\")\n",
    "        sleep(t_sleep)\n",
    "        more = driver.find_element_by_css_selector('.js__show-more-cards')\n",
    "        sleep(t_sleep)\n",
    "        try:\n",
    "            more.click()\n",
    "        except:\n",
    "            pass\n",
    "\n",
    "    for item in items:\n",
    "        classes = item.get_attribute('data-product')\n",
    "        result.append(classes)\n",
    "    return result"
   ]
  },
  {
   "cell_type": "code",
   "execution_count": 101,
   "metadata": {},
   "outputs": [],
   "source": [
    "with webdriver.Firefox() as driver:\n",
    "    result = []\n",
    "    for url_current in urls:\n",
    "        res = get_books_info(driver, url_current)\n",
    "        result += res"
   ]
  },
  {
   "cell_type": "code",
   "execution_count": 102,
   "metadata": {},
   "outputs": [
    {
     "data": {
      "text/plain": [
       "442"
      ]
     },
     "execution_count": 102,
     "metadata": {},
     "output_type": "execute_result"
    }
   ],
   "source": [
    "len(result)"
   ]
  },
  {
   "cell_type": "code",
   "execution_count": 205,
   "metadata": {},
   "outputs": [
    {
     "data": {
      "text/plain": [
       "'1085970'"
      ]
     },
     "execution_count": 205,
     "metadata": {},
     "output_type": "execute_result"
    }
   ],
   "source": [
    "result[0]"
   ]
  },
  {
   "cell_type": "code",
   "execution_count": 105,
   "metadata": {},
   "outputs": [],
   "source": [
    "from html.parser import HTMLParser\n",
    "from bs4 import BeautifulSoup\n",
    "from html.parser import HTMLParser\n",
    "import requests\n",
    "import re"
   ]
  },
  {
   "cell_type": "code",
   "execution_count": 200,
   "metadata": {},
   "outputs": [],
   "source": [
    "def extract_book_info(card_id):\n",
    "    book_url = 'https://www.chitai-gorod.ru/catalog/book/{}'.format(card_id)\n",
    "    book_html = requests.get(book_url).text\n",
    "    soup = BeautifulSoup(book_html, 'html.parser')\n",
    "    book_info = {\n",
    "        \"ID карточки\": card_id,\n",
    "        \"Название\": soup.find('h1', class_='product__title').text,\n",
    "        \"Автор\": re.sub(\"\\s+\", ' ', soup.find('a', class_='link product__author').text),\n",
    "        \"Рейтинг\": float(re.findall(\"\\w+\", soup.find('div', class_='rating').find('span').text)[0]),\n",
    "        \"Голоса\": int(re.findall(\"\\w+\", soup.find('div', class_='rating').find('span').text)[1])\n",
    "    }\n",
    "    price = soup.find('div', class_='price')\n",
    "    if (price is not None):\n",
    "        book_info[\"Цена\"] = int(re.search(\"\\d+\", price.text).group(0))\n",
    "    table = soup.find('div', class_='product__props')\n",
    "    rows = table.find_all('div', class_='product-prop')\n",
    "\n",
    "    for row in rows:\n",
    "        name = re.sub(\"\\s+\", '', row.find('div', class_='product-prop__title').text)\n",
    "        book_info[re.sub(\"\\s+\", ' ', row.find('div', class_='product-prop__title').text)]\\\n",
    "            =re.sub(\"\\s+\", ' ', row.find('div', class_='product-prop__value').text)\n",
    "    book_info['Обложка'] = soup.find('img', itemprop='image').get('src')\n",
    "\n",
    "    return book_info"
   ]
  },
  {
   "cell_type": "code",
   "execution_count": 201,
   "metadata": {},
   "outputs": [
    {
     "name": "stdout",
     "output_type": "stream",
     "text": [
      "https://www.chitai-gorod.ru/catalog/book/1059170\n"
     ]
    },
    {
     "data": {
      "text/plain": [
       "{'ID карточки': 1059170,\n",
       " 'Название': 'Мертвый ноль',\n",
       " 'Автор': ' Фрай М. ',\n",
       " 'Рейтинг': 4.0,\n",
       " 'Голоса': 21,\n",
       " 'Цена': 375,\n",
       " ' Серия ': ' Сновидения Ехо ',\n",
       " ' Издательство ': ' АСТ ',\n",
       " ' Год издания ': ' 2018 ',\n",
       " ' Кол-во страниц ': ' 448 ',\n",
       " ' ISBN ': ' 9785171089733 ',\n",
       " ' Тираж ': ' 30000 ',\n",
       " ' Формат ': ' 20.5 x 13 x 2.5 ',\n",
       " ' Тип обложки ': ' Твердая бумажная ',\n",
       " ' Возраст ': ' 16+ ',\n",
       " ' ID товара: ': ' 2659485 ',\n",
       " 'Обложка': 'https://img-gorod.ru/upload/iblock/aec/aec2cfaece8a6190f319f1853cad7cf5.jpg'}"
      ]
     },
     "execution_count": 201,
     "metadata": {},
     "output_type": "execute_result"
    }
   ],
   "source": [
    "extract_book_info(1059170)"
   ]
  },
  {
   "cell_type": "code",
   "execution_count": 156,
   "metadata": {},
   "outputs": [],
   "source": [
    "import pandas as pd"
   ]
  },
  {
   "cell_type": "code",
   "execution_count": null,
   "metadata": {},
   "outputs": [],
   "source": [
    "res = list(map(extract_book_info, result))\n",
    "\n",
    "df = pd.DataFrame(res)\n",
    "df.sort_values(by='ID карточки', inplace=True)\n",
    "\n",
    "with open('hw_4.csv', mode='w', encoding='utf-8') as f_csv:\n",
    "    df.to_csv(f_csv, index=False)"
   ]
  },
  {
   "cell_type": "code",
   "execution_count": 203,
   "metadata": {},
   "outputs": [
    {
     "data": {
      "text/html": [
       "<div>\n",
       "<style scoped>\n",
       "    .dataframe tbody tr th:only-of-type {\n",
       "        vertical-align: middle;\n",
       "    }\n",
       "\n",
       "    .dataframe tbody tr th {\n",
       "        vertical-align: top;\n",
       "    }\n",
       "\n",
       "    .dataframe thead th {\n",
       "        text-align: right;\n",
       "    }\n",
       "</style>\n",
       "<table border=\"1\" class=\"dataframe\">\n",
       "  <thead>\n",
       "    <tr style=\"text-align: right;\">\n",
       "      <th></th>\n",
       "      <th>ID товара:</th>\n",
       "      <th>ISBN</th>\n",
       "      <th>Возраст</th>\n",
       "      <th>Год издания</th>\n",
       "      <th>Издательство</th>\n",
       "      <th>Кол-во страниц</th>\n",
       "      <th>Переводчик</th>\n",
       "      <th>Редактор</th>\n",
       "      <th>Серия</th>\n",
       "      <th>Тип обложки</th>\n",
       "      <th>Тираж</th>\n",
       "      <th>Формат</th>\n",
       "      <th>Художник</th>\n",
       "      <th>ID карточки</th>\n",
       "      <th>Автор</th>\n",
       "      <th>Голоса</th>\n",
       "      <th>Название</th>\n",
       "      <th>Обложка</th>\n",
       "      <th>Рейтинг</th>\n",
       "      <th>Цена</th>\n",
       "    </tr>\n",
       "  </thead>\n",
       "  <tbody>\n",
       "    <tr>\n",
       "      <th>252</th>\n",
       "      <td>2607833</td>\n",
       "      <td>9785699973705</td>\n",
       "      <td>12+</td>\n",
       "      <td>2017</td>\n",
       "      <td>Эксмо</td>\n",
       "      <td>416</td>\n",
       "      <td>NaN</td>\n",
       "      <td>Суворова Т.</td>\n",
       "      <td>Мефодий Буслаев. Легендарное детское фэнтези</td>\n",
       "      <td>Твердая бумажная</td>\n",
       "      <td>4000</td>\n",
       "      <td>21.8 x 14.5 x 2.5</td>\n",
       "      <td>NaN</td>\n",
       "      <td>1002042</td>\n",
       "      <td>Емец Д.</td>\n",
       "      <td>0</td>\n",
       "      <td>Лед и пламя Тартара</td>\n",
       "      <td>https://img-gorod.ru/upload/iblock/2da/2dacc68...</td>\n",
       "      <td>0.0</td>\n",
       "      <td>342.0</td>\n",
       "    </tr>\n",
       "    <tr>\n",
       "      <th>10</th>\n",
       "      <td>2608544</td>\n",
       "      <td>9785171053802</td>\n",
       "      <td>18+</td>\n",
       "      <td>2017</td>\n",
       "      <td>АСТ</td>\n",
       "      <td>288</td>\n",
       "      <td>NaN</td>\n",
       "      <td>NaN</td>\n",
       "      <td>Миры Макса Фрая</td>\n",
       "      <td>Твердая бумажная</td>\n",
       "      <td>7000</td>\n",
       "      <td>20.6 x 13.2 x 2.3</td>\n",
       "      <td>NaN</td>\n",
       "      <td>1004167</td>\n",
       "      <td>Фрай М.</td>\n",
       "      <td>4</td>\n",
       "      <td>Новая чайная книга</td>\n",
       "      <td>https://img-gorod.ru/upload/iblock/f22/f22f1a0...</td>\n",
       "      <td>5.0</td>\n",
       "      <td>332.0</td>\n",
       "    </tr>\n",
       "    <tr>\n",
       "      <th>172</th>\n",
       "      <td>2608971</td>\n",
       "      <td>9785001111900</td>\n",
       "      <td>6+</td>\n",
       "      <td>2017</td>\n",
       "      <td>Абрис</td>\n",
       "      <td>350</td>\n",
       "      <td>Голосовская А.Ю.</td>\n",
       "      <td>NaN</td>\n",
       "      <td>Земля Отважных</td>\n",
       "      <td>Твердая бумажная</td>\n",
       "      <td>7000</td>\n",
       "      <td>20.6 x 13 x 1.7</td>\n",
       "      <td>Насыров Л.Х.</td>\n",
       "      <td>1004240</td>\n",
       "      <td>Хантер Э.</td>\n",
       "      <td>1</td>\n",
       "      <td>Расколотый прайд</td>\n",
       "      <td>https://img-gorod.ru/upload/iblock/b32/b32d2f0...</td>\n",
       "      <td>5.0</td>\n",
       "      <td>285.0</td>\n",
       "    </tr>\n",
       "    <tr>\n",
       "      <th>261</th>\n",
       "      <td>2611099</td>\n",
       "      <td>9785699973712</td>\n",
       "      <td>12+</td>\n",
       "      <td>2017</td>\n",
       "      <td>Эксмо</td>\n",
       "      <td>416</td>\n",
       "      <td>NaN</td>\n",
       "      <td>NaN</td>\n",
       "      <td>Мефодий Буслаев. Легендарное детское фэнтези</td>\n",
       "      <td>Твердая бумажная</td>\n",
       "      <td>4000</td>\n",
       "      <td>21.2 x 13.5 x 2.3</td>\n",
       "      <td>NaN</td>\n",
       "      <td>1006687</td>\n",
       "      <td>Емец Д.</td>\n",
       "      <td>0</td>\n",
       "      <td>Первый эйдос</td>\n",
       "      <td>https://img-gorod.ru/upload/iblock/dc4/dc4ba54...</td>\n",
       "      <td>0.0</td>\n",
       "      <td>342.0</td>\n",
       "    </tr>\n",
       "    <tr>\n",
       "      <th>9</th>\n",
       "      <td>2611890</td>\n",
       "      <td>9785179827924</td>\n",
       "      <td>16+</td>\n",
       "      <td>2017</td>\n",
       "      <td>АСТ</td>\n",
       "      <td>416</td>\n",
       "      <td>NaN</td>\n",
       "      <td>Кравченко Е.</td>\n",
       "      <td>Сновидения Ехо</td>\n",
       "      <td>Твердая бумажная</td>\n",
       "      <td>27000</td>\n",
       "      <td>20.7 x 13.3 x 2</td>\n",
       "      <td>NaN</td>\n",
       "      <td>1007486</td>\n",
       "      <td>Фрай М.</td>\n",
       "      <td>14</td>\n",
       "      <td>Отдай мое сердце</td>\n",
       "      <td>https://img-gorod.ru/upload/iblock/8a9/8a929aa...</td>\n",
       "      <td>4.0</td>\n",
       "      <td>423.0</td>\n",
       "    </tr>\n",
       "  </tbody>\n",
       "</table>\n",
       "</div>"
      ],
      "text/plain": [
       "     ID товара:             ISBN   Возраст   Год издания   Издательство   \\\n",
       "252     2607833    9785699973705       12+          2017          Эксмо    \n",
       "10      2608544    9785171053802       18+          2017            АСТ    \n",
       "172     2608971    9785001111900        6+          2017          Абрис    \n",
       "261     2611099    9785699973712       12+          2017          Эксмо    \n",
       "9       2611890    9785179827924       16+          2017            АСТ    \n",
       "\n",
       "     Кол-во страниц          Переводчик        Редактор   \\\n",
       "252             416                  NaN    Суворова Т.    \n",
       "10              288                  NaN             NaN   \n",
       "172             350    Голосовская А.Ю.              NaN   \n",
       "261             416                  NaN             NaN   \n",
       "9               416                  NaN   Кравченко Е.    \n",
       "\n",
       "                                             Серия         Тип обложки   \\\n",
       "252   Мефодий Буслаев. Легендарное детское фэнтези    Твердая бумажная    \n",
       "10                                 Миры Макса Фрая    Твердая бумажная    \n",
       "172                                 Земля Отважных    Твердая бумажная    \n",
       "261   Мефодий Буслаев. Легендарное детское фэнтези    Твердая бумажная    \n",
       "9                                   Сновидения Ехо    Твердая бумажная    \n",
       "\n",
       "      Тираж               Формат        Художник  ID карточки        Автор  \\\n",
       "252    4000    21.8 x 14.5 x 2.5              NaN     1002042     Емец Д.    \n",
       "10     7000    20.6 x 13.2 x 2.3              NaN     1004167     Фрай М.    \n",
       "172    7000      20.6 x 13 x 1.7    Насыров Л.Х.      1004240   Хантер Э.    \n",
       "261    4000    21.2 x 13.5 x 2.3              NaN     1006687     Емец Д.    \n",
       "9     27000      20.7 x 13.3 x 2              NaN     1007486     Фрай М.    \n",
       "\n",
       "     Голоса             Название  \\\n",
       "252       0  Лед и пламя Тартара   \n",
       "10        4   Новая чайная книга   \n",
       "172       1     Расколотый прайд   \n",
       "261       0         Первый эйдос   \n",
       "9        14     Отдай мое сердце   \n",
       "\n",
       "                                               Обложка  Рейтинг   Цена  \n",
       "252  https://img-gorod.ru/upload/iblock/2da/2dacc68...      0.0  342.0  \n",
       "10   https://img-gorod.ru/upload/iblock/f22/f22f1a0...      5.0  332.0  \n",
       "172  https://img-gorod.ru/upload/iblock/b32/b32d2f0...      5.0  285.0  \n",
       "261  https://img-gorod.ru/upload/iblock/dc4/dc4ba54...      0.0  342.0  \n",
       "9    https://img-gorod.ru/upload/iblock/8a9/8a929aa...      4.0  423.0  "
      ]
     },
     "execution_count": 203,
     "metadata": {},
     "output_type": "execute_result"
    }
   ],
   "source": [
    "df.head()"
   ]
  }
 ],
 "metadata": {
  "kernelspec": {
   "display_name": "Python 3",
   "language": "python",
   "name": "python3"
  },
  "language_info": {
   "codemirror_mode": {
    "name": "ipython",
    "version": 3
   },
   "file_extension": ".py",
   "mimetype": "text/x-python",
   "name": "python",
   "nbconvert_exporter": "python",
   "pygments_lexer": "ipython3",
   "version": "3.7.0"
  }
 },
 "nbformat": 4,
 "nbformat_minor": 2
}
